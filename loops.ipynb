{
 "cells": [
  {
   "cell_type": "markdown",
   "metadata": {},
   "source": [
    "#Doing some action repeateding is nothing but a loop. Generally it doesn't contain any starting or ending\n",
    "#In case of programming Loop is nothing but executing a block of repeatedly. Here We have to take care of starting and ending points."
   ]
  },
  {
   "cell_type": "code",
   "execution_count": 1,
   "metadata": {},
   "outputs": [],
   "source": [
    "#while <condition>:    \n",
    "#    st1\n",
    "#    st2   \n",
    "#    |\n",
    "#    |    \n",
    "#    stn"
   ]
  },
  {
   "cell_type": "code",
   "execution_count": 2,
   "metadata": {},
   "outputs": [
    {
     "name": "stdout",
     "output_type": "stream",
     "text": [
      "enter a value to repeat 5\n",
      "Hello World\n",
      "Hello World\n",
      "Hello World\n",
      "Hello World\n",
      "Hello World\n"
     ]
    }
   ],
   "source": [
    "val = int(raw_input(\"enter a value to repeat \"))\n",
    "i = 1\n",
    "while i<=val:\n",
    "    print(\"Hello World\")\n",
    "    i += 1\n"
   ]
  },
  {
   "cell_type": "code",
   "execution_count": 1,
   "metadata": {},
   "outputs": [
    {
     "name": "stdout",
     "output_type": "stream",
     "text": [
      "enter a number to find prime 6\n",
      "non prime\n"
     ]
    }
   ],
   "source": [
    "val = int(raw_input(\"enter a number to find prime \"))\n",
    "x = 1\n",
    "count = 0\n",
    "while x<=val:\n",
    "    if val%x == 0:\n",
    "        count += 1\n",
    "    x += 1\n",
    "if count > 2:\n",
    "    print \"non prime\"\n",
    "else:\n",
    "    print \"prime\""
   ]
  },
  {
   "cell_type": "code",
   "execution_count": 5,
   "metadata": {},
   "outputs": [
    {
     "name": "stdout",
     "output_type": "stream",
     "text": [
      "enter a number to find prime 23\n",
      "prime\n"
     ]
    }
   ],
   "source": [
    "val = int(raw_input(\"enter a number to find prime \"))\n",
    "x = 2\n",
    "count = 0\n",
    "while x<val:\n",
    "    if val%x == 0:\n",
    "        count += 1\n",
    "    x += 1\n",
    "if count > 0:\n",
    "    print \"non prime\"\n",
    "else:\n",
    "    print \"prime\""
   ]
  },
  {
   "cell_type": "code",
   "execution_count": 6,
   "metadata": {},
   "outputs": [
    {
     "name": "stdout",
     "output_type": "stream",
     "text": [
      "enter a number to find prime 20\n",
      "non prime\n"
     ]
    }
   ],
   "source": [
    "val = int(raw_input(\"enter a number to find prime \"))\n",
    "x = 2\n",
    "count = 0\n",
    "while x<val:\n",
    "    if val%x == 0:\n",
    "        count += 1\n",
    "    x += 1\n",
    "if count > 0:\n",
    "    print \"non prime\"\n",
    "else:\n",
    "    print \"prime\""
   ]
  },
  {
   "cell_type": "code",
   "execution_count": 7,
   "metadata": {},
   "outputs": [
    {
     "name": "stdout",
     "output_type": "stream",
     "text": [
      "enter a value 5\n",
      "5\n",
      "4\n",
      "3\n",
      "2\n",
      "1\n"
     ]
    }
   ],
   "source": [
    "val = int(raw_input(\"enter a value \"))\n",
    "while val>=1:\n",
    "    print val\n",
    "    val -= 1"
   ]
  },
  {
   "cell_type": "code",
   "execution_count": 8,
   "metadata": {},
   "outputs": [
    {
     "name": "stdout",
     "output_type": "stream",
     "text": [
      "enter a number to find prime 23\n",
      "prime\n"
     ]
    }
   ],
   "source": [
    "val = int(raw_input(\"enter a number to find prime \"))\n",
    "x = 2\n",
    "is_prime = True\n",
    "while x<val:\n",
    "    if val%x == 0:\n",
    "        is_prime = False\n",
    "        break\n",
    "    x += 1\n",
    "if not is_prime:\n",
    "    print \"non prime\"\n",
    "else:\n",
    "    print \"prime\""
   ]
  },
  {
   "cell_type": "code",
   "execution_count": 9,
   "metadata": {},
   "outputs": [
    {
     "name": "stdout",
     "output_type": "stream",
     "text": [
      "enter a number to find prime 20\n",
      "non prime\n"
     ]
    }
   ],
   "source": [
    "val = int(raw_input(\"enter a number to find prime \"))\n",
    "x = 2\n",
    "is_prime = True\n",
    "while x<val:\n",
    "    if val%x == 0:\n",
    "        is_prime = False\n",
    "        break\n",
    "    x += 1\n",
    "if not is_prime:\n",
    "    print \"non prime\"\n",
    "else:\n",
    "    print \"prime\""
   ]
  },
  {
   "cell_type": "code",
   "execution_count": 10,
   "metadata": {},
   "outputs": [
    {
     "name": "stdout",
     "output_type": "stream",
     "text": [
      "enter a value 5\n",
      "1\n",
      "2\n",
      "3\n",
      "4\n",
      "5\n"
     ]
    }
   ],
   "source": [
    "val = int(raw_input(\"enter a value \"))\n",
    "x = 1\n",
    "while True:\n",
    "    print x\n",
    "    if x>=val:\n",
    "        break\n",
    "    x += 1\n"
   ]
  },
  {
   "cell_type": "code",
   "execution_count": 11,
   "metadata": {},
   "outputs": [
    {
     "name": "stdout",
     "output_type": "stream",
     "text": [
      "5\n"
     ]
    }
   ],
   "source": [
    "while True:\n",
    "    print 5\n",
    "    break \n",
    "    print 6"
   ]
  },
  {
   "cell_type": "code",
   "execution_count": 13,
   "metadata": {},
   "outputs": [
    {
     "name": "stdout",
     "output_type": "stream",
     "text": [
      "enter a value 10\n",
      "1\n",
      "2\n",
      "4\n",
      "5\n",
      "7\n",
      "8\n",
      "10\n"
     ]
    }
   ],
   "source": [
    "val = int(raw_input(\"enter a value \"))\n",
    "x = 1\n",
    "while x<=val:\n",
    "    if x%3 == 0:\n",
    "        x += 1\n",
    "        continue\n",
    "    print x\n",
    "    x += 1\n"
   ]
  },
  {
   "cell_type": "code",
   "execution_count": 14,
   "metadata": {},
   "outputs": [
    {
     "name": "stdout",
     "output_type": "stream",
     "text": [
      "50488448 50488448\n"
     ]
    }
   ],
   "source": [
    "a = 10\n",
    "b = 10\n",
    "print id(a), id(b)"
   ]
  },
  {
   "cell_type": "code",
   "execution_count": 15,
   "metadata": {},
   "outputs": [
    {
     "name": "stdout",
     "output_type": "stream",
     "text": [
      "75296008 75295936\n"
     ]
    }
   ],
   "source": [
    "a = 300\n",
    "b = 300\n",
    "print id(a), id(b)"
   ]
  },
  {
   "cell_type": "code",
   "execution_count": 16,
   "metadata": {},
   "outputs": [
    {
     "name": "stdout",
     "output_type": "stream",
     "text": [
      "75296032\n"
     ]
    }
   ],
   "source": [
    "a = 400\n",
    "print id(a)"
   ]
  },
  {
   "cell_type": "code",
   "execution_count": 17,
   "metadata": {},
   "outputs": [],
   "source": [
    "c = 10"
   ]
  },
  {
   "cell_type": "code",
   "execution_count": 18,
   "metadata": {},
   "outputs": [
    {
     "name": "stdout",
     "output_type": "stream",
     "text": [
      "50488448\n"
     ]
    }
   ],
   "source": [
    "print id(c)"
   ]
  },
  {
   "cell_type": "code",
   "execution_count": 19,
   "metadata": {},
   "outputs": [
    {
     "name": "stdout",
     "output_type": "stream",
     "text": [
      "50381128 50381128\n"
     ]
    }
   ],
   "source": [
    "a = \"\"\n",
    "b = \"\"\n",
    "print id(a), id(b)"
   ]
  },
  {
   "cell_type": "code",
   "execution_count": 22,
   "metadata": {},
   "outputs": [
    {
     "name": "stdout",
     "output_type": "stream",
     "text": [
      "83299296 83299384\n"
     ]
    }
   ],
   "source": [
    "a = \"This is a python class. This class starts at 10:00 AM\"\n",
    "b = \"This is a python class. This class starts at 10:00 AM\"\n",
    "print id(a), id(b)"
   ]
  },
  {
   "cell_type": "code",
   "execution_count": null,
   "metadata": {},
   "outputs": [],
   "source": []
  }
 ],
 "metadata": {
  "kernelspec": {
   "display_name": "Python 2",
   "language": "python",
   "name": "python2"
  },
  "language_info": {
   "codemirror_mode": {
    "name": "ipython",
    "version": 2
   },
   "file_extension": ".py",
   "mimetype": "text/x-python",
   "name": "python",
   "nbconvert_exporter": "python",
   "pygments_lexer": "ipython2",
   "version": "2.7.15"
  }
 },
 "nbformat": 4,
 "nbformat_minor": 2
}
