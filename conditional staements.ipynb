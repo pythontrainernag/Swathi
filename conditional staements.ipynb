{
 "cells": [
  {
   "cell_type": "code",
   "execution_count": 1,
   "metadata": {},
   "outputs": [
    {
     "name": "stdout",
     "output_type": "stream",
     "text": [
      "Hello World\n",
      "python\n"
     ]
    }
   ],
   "source": [
    "print \"Hello World\"\n",
    "print \"python\""
   ]
  },
  {
   "cell_type": "code",
   "execution_count": 2,
   "metadata": {},
   "outputs": [],
   "source": [
    "a = 5"
   ]
  },
  {
   "cell_type": "code",
   "execution_count": 2,
   "metadata": {},
   "outputs": [
    {
     "data": {
      "text/plain": [
       "True"
      ]
     },
     "execution_count": 2,
     "metadata": {},
     "output_type": "execute_result"
    }
   ],
   "source": [
    "5>3"
   ]
  },
  {
   "cell_type": "code",
   "execution_count": 3,
   "metadata": {},
   "outputs": [
    {
     "name": "stdout",
     "output_type": "stream",
     "text": [
      "Hello\n"
     ]
    }
   ],
   "source": [
    "if 2:\n",
    "    print \"Hello\""
   ]
  },
  {
   "cell_type": "markdown",
   "metadata": {},
   "source": [
    "# syntax"
   ]
  },
  {
   "cell_type": "markdown",
   "metadata": {},
   "source": [
    "sidfhskjfhkjldshfkjdsh"
   ]
  },
  {
   "cell_type": "code",
   "execution_count": 5,
   "metadata": {},
   "outputs": [
    {
     "name": "stdout",
     "output_type": "stream",
     "text": [
      "Requirement already satisfied: requests in c:\\python27\\lib\\site-packages\n",
      "Requirement already satisfied: urllib3<1.25,>=1.21.1 in c:\\python27\\lib\\site-packages (from requests)\n",
      "Requirement already satisfied: certifi>=2017.4.17 in c:\\python27\\lib\\site-packages (from requests)\n",
      "Requirement already satisfied: idna<2.9,>=2.5 in c:\\python27\\lib\\site-packages (from requests)\n",
      "Requirement already satisfied: chardet<3.1.0,>=3.0.2 in c:\\python27\\lib\\site-packages (from requests)\n"
     ]
    },
    {
     "name": "stderr",
     "output_type": "stream",
     "text": [
      "You are using pip version 9.0.3, however version 19.2.3 is available.\n",
      "You should consider upgrading via the 'python -m pip install --upgrade pip' command.\n"
     ]
    }
   ],
   "source": [
    "! pip install requests"
   ]
  },
  {
   "cell_type": "code",
   "execution_count": 6,
   "metadata": {},
   "outputs": [
    {
     "name": "stdout",
     "output_type": "stream",
     "text": [
      " Volume in drive D is New Volume\n",
      " Volume Serial Number is 7EF3-2968\n",
      "\n",
      " Directory of D:\\office\\class\n",
      "\n",
      "10-09-2019  12:24    <DIR>          .\n",
      "10-09-2019  12:24    <DIR>          ..\n",
      "10-09-2019  12:15    <DIR>          .ipynb_checkpoints\n",
      "10-09-2019  11:31               128 arth_int.py\n",
      "10-09-2019  11:53               142 assign_int.py\n",
      "10-09-2019  12:24             2,774 conditional staements.ipynb\n",
      "10-09-2019  11:49                75 log_int.py\n",
      "09-09-2019  12:55                47 print.py\n",
      "10-09-2019  11:44               167 rel_int.py\n",
      "               6 File(s)          3,333 bytes\n",
      "               3 Dir(s)  460,399,992,832 bytes free\n"
     ]
    }
   ],
   "source": [
    "! dir"
   ]
  },
  {
   "cell_type": "markdown",
   "metadata": {},
   "source": [
    "# Conditional statements"
   ]
  },
  {
   "cell_type": "code",
   "execution_count": 7,
   "metadata": {},
   "outputs": [],
   "source": [
    "#if <condition>:\n",
    "#    st1\n",
    "#    st2\n",
    "#    \\\n",
    "#    |\n",
    "#    stn\n",
    "#stn+1"
   ]
  },
  {
   "cell_type": "markdown",
   "metadata": {},
   "source": [
    "Execute a block of statements whenever condition satisfies"
   ]
  },
  {
   "cell_type": "code",
   "execution_count": 8,
   "metadata": {},
   "outputs": [
    {
     "name": "stdout",
     "output_type": "stream",
     "text": [
      "Starting if \n",
      "3 is greater\n",
      "end if\n"
     ]
    }
   ],
   "source": [
    "print \"Starting if \"\n",
    "if 3>2:\n",
    "    print \"3 is greater\"\n",
    "print \"end if\""
   ]
  },
  {
   "cell_type": "code",
   "execution_count": 9,
   "metadata": {},
   "outputs": [
    {
     "name": "stdout",
     "output_type": "stream",
     "text": [
      "Starting if \n",
      "end if\n"
     ]
    }
   ],
   "source": [
    "print \"Starting if \"\n",
    "if 3<2:\n",
    "    print \"3 is greater\"\n",
    "print \"end if\""
   ]
  },
  {
   "cell_type": "code",
   "execution_count": 11,
   "metadata": {},
   "outputs": [
    {
     "name": "stdout",
     "output_type": "stream",
     "text": [
      "Starting if \n",
      "3 is greater\n",
      "Hello\n",
      "end if\n"
     ]
    }
   ],
   "source": [
    "print \"Starting if \"\n",
    "if 3>2:\n",
    "    print \"3 is greater\"\n",
    "    print \"Hello\"\n",
    "print \"end if\""
   ]
  },
  {
   "cell_type": "code",
   "execution_count": 12,
   "metadata": {},
   "outputs": [
    {
     "name": "stdout",
     "output_type": "stream",
     "text": [
      "Starting if \n",
      "end if\n"
     ]
    }
   ],
   "source": [
    "print \"Starting if \"\n",
    "if 3<2:\n",
    "    print \"3 is greater\"\n",
    "    print \"Hello\"\n",
    "print \"end if\""
   ]
  },
  {
   "cell_type": "markdown",
   "metadata": {},
   "source": [
    "If train tickets available from Hyd to chennai, print booked"
   ]
  },
  {
   "cell_type": "code",
   "execution_count": 13,
   "metadata": {},
   "outputs": [
    {
     "name": "stdout",
     "output_type": "stream",
     "text": [
      "tickets has been booked\n"
     ]
    }
   ],
   "source": [
    "tickets_available = True\n",
    "if tickets_available:\n",
    "    print \"tickets has been booked\""
   ]
  },
  {
   "cell_type": "code",
   "execution_count": 14,
   "metadata": {},
   "outputs": [],
   "source": [
    "tickets_available = False\n",
    "if tickets_available:\n",
    "    print \"tickets has been booked\""
   ]
  },
  {
   "cell_type": "markdown",
   "metadata": {},
   "source": [
    "execute a block of statements based on compound condition"
   ]
  },
  {
   "cell_type": "code",
   "execution_count": 16,
   "metadata": {},
   "outputs": [],
   "source": [
    "a = 5\n",
    "b = 6\n",
    "c = 7\n",
    "if a>b and a>c:\n",
    "    print \"a is greater\""
   ]
  },
  {
   "cell_type": "code",
   "execution_count": 17,
   "metadata": {},
   "outputs": [],
   "source": [
    "a = 6\n",
    "b = 4\n",
    "c = 7\n",
    "if a>b and a>c:\n",
    "    print \"a is greater\""
   ]
  },
  {
   "cell_type": "code",
   "execution_count": 18,
   "metadata": {},
   "outputs": [
    {
     "name": "stdout",
     "output_type": "stream",
     "text": [
      "a is greater\n"
     ]
    }
   ],
   "source": [
    "a = 8\n",
    "b = 4\n",
    "c = 7\n",
    "if a>b and a>c:\n",
    "    print \"a is greater\""
   ]
  },
  {
   "cell_type": "code",
   "execution_count": 19,
   "metadata": {},
   "outputs": [
    {
     "name": "stdout",
     "output_type": "stream",
     "text": [
      "c is greater\n"
     ]
    }
   ],
   "source": [
    "a = 6\n",
    "b = 4\n",
    "c = 7\n",
    "if a>b and a>c:\n",
    "    print \"a is greater\"\n",
    "if b>a and b>c:\n",
    "    print \"b is greater\"\n",
    "if c>a and c>b:\n",
    "    print \"c is greater\""
   ]
  },
  {
   "cell_type": "markdown",
   "metadata": {},
   "source": [
    "Execute block of statements if condition satisfies otherwise execute alternative block of statements"
   ]
  },
  {
   "cell_type": "code",
   "execution_count": 20,
   "metadata": {},
   "outputs": [
    {
     "name": "stdout",
     "output_type": "stream",
     "text": [
      "b is greater\n"
     ]
    }
   ],
   "source": [
    "a = 10\n",
    "b = 15\n",
    "if a>b:\n",
    "    print \"a is greater\"\n",
    "else:\n",
    "    print \"b is greater\""
   ]
  },
  {
   "cell_type": "code",
   "execution_count": 21,
   "metadata": {},
   "outputs": [
    {
     "name": "stdout",
     "output_type": "stream",
     "text": [
      "a is greater\n"
     ]
    }
   ],
   "source": [
    "a = 20\n",
    "b = 15\n",
    "if a>b:\n",
    "    print \"a is greater\"\n",
    "else:\n",
    "    print \"b is greater\""
   ]
  },
  {
   "cell_type": "markdown",
   "metadata": {},
   "source": [
    "Maintain multiple alternative"
   ]
  },
  {
   "cell_type": "code",
   "execution_count": 22,
   "metadata": {},
   "outputs": [
    {
     "name": "stdout",
     "output_type": "stream",
     "text": [
      "c is greater\n"
     ]
    }
   ],
   "source": [
    "a = 10\n",
    "b = 5\n",
    "c = 20\n",
    "if a>b and a>c:\n",
    "    print \"a is greater\"\n",
    "elif b>c:\n",
    "    print \"b is greater\"\n",
    "else:\n",
    "    print \"c is greater\""
   ]
  },
  {
   "cell_type": "code",
   "execution_count": 23,
   "metadata": {},
   "outputs": [
    {
     "name": "stdout",
     "output_type": "stream",
     "text": [
      "a is greater\n"
     ]
    }
   ],
   "source": [
    "a = 25\n",
    "b = 5\n",
    "c = 20\n",
    "if a>b and a>c:\n",
    "    print \"a is greater\"\n",
    "elif b>c:\n",
    "    print \"b is greater\"\n",
    "else:\n",
    "    print \"c is greater\""
   ]
  },
  {
   "cell_type": "code",
   "execution_count": 24,
   "metadata": {},
   "outputs": [
    {
     "name": "stdout",
     "output_type": "stream",
     "text": [
      "tickets booked for chennai express\n"
     ]
    }
   ],
   "source": [
    "chennai_express = True\n",
    "charminar = True\n",
    "hyd_bza = True\n",
    "bza_chn = True\n",
    "bus = True\n",
    "gap = 2\n",
    "if chennai_express:\n",
    "    print \"tickets booked for chennai express\"\n",
    "elif charminar:\n",
    "    print \"tickets booked for charminar express\"\n",
    "elif hyd_bza and bza_chn and gap>=3:\n",
    "    print \"tickets booked for gap journey\"\n",
    "elif bus:\n",
    "    print \"tickets booked for bus\"\n",
    "else:\n",
    "    print \"cancel the trip\""
   ]
  },
  {
   "cell_type": "code",
   "execution_count": 25,
   "metadata": {},
   "outputs": [
    {
     "name": "stdout",
     "output_type": "stream",
     "text": [
      "tickets booked for bus\n"
     ]
    }
   ],
   "source": [
    "chennai_express = False\n",
    "charminar = False\n",
    "hyd_bza = True\n",
    "bza_chn = True\n",
    "bus = True\n",
    "gap = 2\n",
    "if chennai_express:\n",
    "    print \"tickets booked for chennai express\"\n",
    "elif charminar:\n",
    "    print \"tickets booked for charminar express\"\n",
    "elif hyd_bza and bza_chn and gap>=3:\n",
    "    print \"tickets booked for gap journey\"\n",
    "elif bus:\n",
    "    print \"tickets booked for bus\"\n",
    "else:\n",
    "    print \"cancel the trip\""
   ]
  },
  {
   "cell_type": "markdown",
   "metadata": {},
   "source": [
    "# Nested conditional statements"
   ]
  },
  {
   "cell_type": "code",
   "execution_count": 26,
   "metadata": {},
   "outputs": [
    {
     "name": "stdout",
     "output_type": "stream",
     "text": [
      "tickets available for bza\n"
     ]
    }
   ],
   "source": [
    "hyd_bza = True\n",
    "bza_chn = False\n",
    "gap = 4\n",
    "if hyd_bza:\n",
    "    print \"tickets available for bza\"\n",
    "    if bza_chn:\n",
    "        print \"tickets available for chn\"\n",
    "        if gap >= 3:\n",
    "            print \"tickets has been booked\""
   ]
  },
  {
   "cell_type": "code",
   "execution_count": null,
   "metadata": {},
   "outputs": [],
   "source": []
  }
 ],
 "metadata": {
  "kernelspec": {
   "display_name": "Python 2",
   "language": "python",
   "name": "python2"
  },
  "language_info": {
   "codemirror_mode": {
    "name": "ipython",
    "version": 2
   },
   "file_extension": ".py",
   "mimetype": "text/x-python",
   "name": "python",
   "nbconvert_exporter": "python",
   "pygments_lexer": "ipython2",
   "version": "2.7.15"
  }
 },
 "nbformat": 4,
 "nbformat_minor": 2
}
